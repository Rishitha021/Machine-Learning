{
 "cells": [
  {
   "cell_type": "code",
   "execution_count": 3,
   "id": "dfc39e17",
   "metadata": {},
   "outputs": [
    {
     "name": "stdout",
     "output_type": "stream",
     "text": [
      "sorted list =  [19, 19, 20, 22, 24, 24, 24, 25, 25, 26]\n",
      "max age:26, min age:19\n",
      "added list: [19, 19, 20, 22, 24, 24, 24, 25, 25, 26, 19, 26]\n",
      "6\n",
      "The median of ages: 24\n",
      "average age is: 22.75\n",
      "Range of the ages: 7\n"
     ]
    }
   ],
   "source": [
    "# Question 1\n",
    "# The following is a list of 10 students ages:\n",
    "# ages = [19, 22, 19, 24, 20, 25, 26, 24, 25, 24]\n",
    "#  Sort the list and find the min and max age\n",
    "# Add the min age and the max age again to the list\n",
    "# Find the median age (one middle item or two middle items divided by two)\n",
    "# Find the average age (sum of all items divided by their number)\n",
    "# Find the range of the ages (max minus min) \n",
    "\n",
    "#create a list with given ages \n",
    "ages =  [19, 22, 19, 24, 20, 25, 26, 24, 25, 24]\n",
    " #sort those listed ages\n",
    "ages.sort()\n",
    "print(\"sorted list = \", ages)\n",
    "\n",
    "print(f\"max age:{max(ages)}, min age:{min(ages)}\") #then seperate the ages among max age and  min age\n",
    "ages.extend([min(ages),max(ages)]) #  add those min and max ages with extend command\n",
    "print(f\"added list: {ages}\") # listing those ages after adding to them \n",
    "m = int(len(ages)/2) \n",
    "print(m)\n",
    "if m % 2 == 0: #this will be used for finding even \n",
    "\n",
    "# finding median age\n",
    " print(f\"The median of ages: {int((ages[m-1]  + ages[m])/ 2)}\")\n",
    "# finding average age\n",
    "print(f\"average age is: {sum(ages)/len(ages)}\")\n",
    "print(f\"Range of the ages: {max(ages) - min(ages)}\") # finding range age"
   ]
  },
  {
   "cell_type": "code",
   "execution_count": 1,
   "id": "242106b3",
   "metadata": {},
   "outputs": [
    {
     "name": "stdout",
     "output_type": "stream",
     "text": [
      "length of student: 9\n",
      "<class 'list'>\n",
      "['Leadership', 'Flexibility', 'Organization', 'Team Work']\n",
      "keys of student dictionary:dict_keys(['First_Name', 'Last_Name', 'Gender', 'age', 'Martial Status', 'Skills', 'Country', 'City', 'Address'])\n",
      "values of student dictionary: dict_values(['Rishitha', 'Gangula', 'Female', '25', 'Single', ['Leadership', 'Flexibility', 'Organization', 'Team Work'], 'India', 'Hyderabad', 'Kollur'])\n"
     ]
    }
   ],
   "source": [
    "#Question 2\n",
    "# Create an empty dictionary called dog\n",
    "# Add name, color, breed, legs, age to the dog dictionary\n",
    "# Create a student dictionary and add first_name, last_name, gender, age, marital status,skills, country, city and address as keys for the dictionary\n",
    "# Get the length of the student dictionary\n",
    "# Get the value of skills and check the data type, it should be a list\n",
    "# Modify the skills values by adding one or two skills\n",
    "# Get the dictionary keys as a list\n",
    "# Get the dictionary values as a list\n",
    "\n",
    "#create an empty dictionary and add key values\n",
    "dog = {} \n",
    "dog = {\"name\":\"Lucy\", \"color\":\"White\", \"bread\":\"Maltese\", \"legs\":\"4\", \"age\":\"5\"} \n",
    "\n",
    "#create a student dictionary and add key values for required fields\n",
    "student= {} \n",
    "student= {\"First_Name\":\"Rishitha\",\"Last_Name\":\"Gangula\",\"Gender\":\"Female\",\"age\":\"25\",\"Martial Status\":\"Single\",\n",
    "           \"Skills\":['Leadership','Flexibility'],\"Country\":\"India\",\"City\":\"Hyderabad\",\"Address\":\"Kollur\"}\n",
    "\n",
    "print(f\"length of student: {len(student)}\") # measure the length of student dictionary\n",
    "\n",
    "print(type(student['Skills']))        #for displaying the values in skills and type of date   \n",
    "\n",
    " #modify the  skills\n",
    "student['Skills'].extend(['Organization', 'Team Work'])\n",
    "print(student['Skills'])\n",
    "print(f\"keys of student dictionary:{student.keys()}\")   #listing the dictionary keys\n",
    "print(f\"values of student dictionary: {student.values()}\") #for displaying values in dictionary keys\n",
    "\n",
    "      "
   ]
  },
  {
   "cell_type": "code",
   "execution_count": 1,
   "id": "44c3ec2a",
   "metadata": {},
   "outputs": [
    {
     "name": "stdout",
     "output_type": "stream",
     "text": [
      "no of siblings: 6\n",
      "('Sony', 'Mouna', 'Rajeevi', 'Rahul Reddy', 'Ramchandra Reddy', 'Rohith')\n",
      "type:  <class 'tuple'>\n",
      "family member: \n",
      "('Sony', 'Mouna', 'Rajeevi', 'Rahul Reddy', 'Ramchandra Reddy', 'Rohith', 'Ganesh Reddy', 'Saritha')\n"
     ]
    }
   ],
   "source": [
    "#Question:3\n",
    "# Create a tuple containing names of your sisters and your brothers (imaginary siblings are fine)\n",
    "# Join brothers and sisters tuples and assign it to siblings\n",
    "# How many siblings do you have?\n",
    "\n",
    "sisters = (\"Sony\", \"Mouna\", \"Rajeevi\") # sisters tuple\n",
    "brothers = (\"Rahul Reddy\", \"Ramchandra Reddy\", \"Rohith\")  # display's brothers tuple\n",
    "siblings = sisters + brothers                  #add siblings tuple\n",
    "print(f\"no of siblings: {len(siblings)}\")     #display the length of siblings\n",
    "print(siblings)\n",
    "family_member = ()\n",
    "family_member += siblings + (\"Ganesh Reddy\", \"Saritha\")  # modify the siblings tuple by adding family details\n",
    "print(\"type: \",type(family_member))\n",
    "print(\"family member: \")\n",
    "print(family_member)"
   ]
  },
  {
   "cell_type": "code",
   "execution_count": 2,
   "id": "7ba9ae95",
   "metadata": {},
   "outputs": [
    {
     "name": "stdout",
     "output_type": "stream",
     "text": [
      "length of it_companies:  7\n",
      "add new company:  {'IBM', 'Amazon', 'Oracle', 'Facebook', 'Apple', 'twitter', 'Microsoft', 'Google'}\n",
      "updated it companies: {'Mindtree', 'Google', 'IBM', 'ADP', 'Oracle', 'Virtusa', 'Facebook', 'Amazon', 'Apple', 'twitter', 'Microsoft'}\n",
      "remove it companies: {'Mindtree', 'Google', 'IBM', 'ADP', 'Oracle', 'Virtusa', 'Amazon', 'Apple', 'twitter', 'Microsoft'}\n",
      "discard it companies: {'Mindtree', 'Google', 'IBM', 'Oracle', 'Virtusa', 'Amazon', 'Apple', 'twitter', 'Microsoft'}\n",
      "join A union B:{19, 20, 22, 24, 25, 26, 27, 28}\n",
      "join A intersection B:{19, 20, 22, 24, 25, 26}\n",
      "if A is subset of B:True\n",
      "if A is disjoint of B:False\n",
      "{19, 20, 22, 24, 25, 26, 27, 28}\n",
      "{19, 20, 22, 24, 25, 26, 27, 28}\n",
      "symmetric difference:set()\n",
      "deleting both A and B:  None None\n",
      "The length of the list age:8\n",
      "The length of the set age:8\n"
     ]
    }
   ],
   "source": [
    "#Question 4\n",
    "#it_companies = {'Facebook', 'Google', 'Microsoft', 'Apple', 'IBM', 'Oracle', 'Amazon'}\n",
    "#A = {19, 22, 24, 20, 25, 26}\n",
    "#B = {19, 22, 20, 25, 26, 24, 28, 27}\n",
    "#age = [22, 19, 24, 25, 26, 24, 25, 24]\n",
    "# Find the length of the set it_companies\n",
    "# Add 'Twitter' to it_companies\n",
    "# Insert multiple IT companies at once to the set it_companies\n",
    "# Remove one of the companies from the set it_companies\n",
    "# What is the difference between remove and discard\n",
    "# Join A and B\n",
    "# Find A intersection B\n",
    "# Is A subset of B\n",
    "# Are A and B disjoint sets\n",
    "# Join A with B and B with A\n",
    "# What is the symmetric difference between A and B\n",
    "# Delete the sets completely\n",
    "# Convert the ages to a set and compare the length of the list and the set\n",
    "\n",
    "it_companies = {'Facebook', 'Google', 'Microsoft', 'Apple', 'IBM', 'Oracle', 'Amazon'}\n",
    "A = {19, 22, 24, 20, 25, 26}\n",
    "B = {19, 22, 20, 25, 26, 24, 28, 27}\n",
    "age = [22, 19, 24, 25, 26, 24, 25, 24]\n",
    "count = len(it_companies)\n",
    "print(f\"length of it_companies: \", count)   #displays length of it_companies\n",
    "\n",
    "it_companies.add(\"twitter\")  #adding twitter\n",
    "print(f\"add new company: \", it_companies)\n",
    "it_companies.update(['ADP', 'Virtusa', 'Mindtree'])  #update multiple it_companies\n",
    "print(f\"updated it companies:\", it_companies)   \n",
    "\n",
    "it_companies.remove('Facebook')              #remove one company which raises error\n",
    "print(f\"remove it companies:\", it_companies)\n",
    "\n",
    "it_companies.discard('ADP')                           #discard which doesnt raise an error\n",
    "print(f\"discard it companies:\", it_companies)\n",
    "\n",
    "# join A and B\n",
    "print(f\"join A union B:{A | B}\")           \n",
    " # A intersection B and display subset\n",
    "print(f\"join A intersection B:{A & B}\")        \n",
    "print(f\"if A is subset of B:{A.issubset(B)}\")             \n",
    "print(f\"if A is disjoint of B:{A.isdisjoint(B)}\")\n",
    "\n",
    "#now joint A with B and B with A\n",
    "A.update(B)             \n",
    "print(A) \n",
    "B.update(A)\n",
    "print(B)\n",
    "\n",
    "#now  print symmetric difference\n",
    "print(f\"symmetric difference:{A.symmetric_difference(B)}\") \n",
    "A.clear()\n",
    "B.clear()\n",
    "print(f\"deleting both A and B: \", A.clear(), B.clear())  #delete set from both A and B\n",
    "print(f\"The length of the list age:{len(age)}\")\n",
    "#converting age to set and compare length of list and set\n",
    "AgeSet=set(age)               \n",
    "print(f\"The length of the set age:{len(age)}\")"
   ]
  },
  {
   "cell_type": "code",
   "execution_count": 16,
   "id": "31a7dd60",
   "metadata": {},
   "outputs": [
    {
     "name": "stdout",
     "output_type": "stream",
     "text": [
      "radius of the circle is:  30\n",
      "area of circle:  2826.0\n",
      "circumference of circle:  188.4\n",
      "enter radius6\n",
      "Area from user input radius:  113.03999999999999\n"
     ]
    }
   ],
   "source": [
    "#Question 5\n",
    "# The radius of a circle is 30 meters.\n",
    "# Calculate the area of a circle and assign the value to a variable name of _area_of_circle_\n",
    "# Calculate the circumference of a circle and assign the value to a variable name of _circum_of_circle_\n",
    "# Take radius as user input and calculate the area\n",
    "\n",
    "# The radius of a circle \n",
    "radius=30                                       \n",
    "print(f\"radius of the circle is: \", radius)\n",
    "# Calculate the area of a circle and assign the value to a variable\n",
    "area_of_circle=3.14*(radius**2)                                   \n",
    "circumference_of_circle=2*3.14*radius  # Calculate the circumference of a circle and assign the value to a variable\n",
    "print(f\"area of circle: \", area_of_circle)\n",
    "print(f\"circumference of circle: \", circumference_of_circle)\n",
    "radius_input = int(input(\"enter radius\")) # Taking radius as user input and calculate the area\n",
    "new_area = 3.14*radius_input*radius_input\n",
    "print(f\"Area from user input radius: \", new_area)\n"
   ]
  },
  {
   "cell_type": "code",
   "execution_count": 3,
   "id": "b2adae5d",
   "metadata": {},
   "outputs": [
    {
     "name": "stdout",
     "output_type": "stream",
     "text": [
      "['I', 'am', 'a', 'teacher', 'and', 'I', 'love', 'to', 'inspire', 'and', 'teach', 'people']\n",
      "number of unique words in the given string:  10\n"
     ]
    }
   ],
   "source": [
    "#Question 6\n",
    "#“I am a teacher and I love to inspire and teach people”\n",
    "# How many unique words have been used in the sentence? Use the split methods and set to get the unique words.\n",
    "\n",
    "sentence = \"I am a teacher and I love to inspire and teach people\"\n",
    "# by default use whiteSpaces as the separator in the string sentence in Split function\n",
    "list = sentence.split(' ')       \n",
    "print(list)\n",
    "unique_words=len(set(list))   #display the number of unique words in given string\n",
    "print(f\"number of unique words in the given string: \",unique_words )"
   ]
  },
  {
   "cell_type": "code",
   "execution_count": 4,
   "id": "2e37f6a0",
   "metadata": {},
   "outputs": [
    {
     "name": "stdout",
     "output_type": "stream",
     "text": [
      "Name\t\tAge\t\tCountry\t\tCity\n",
      "Asabeneh\t250\t\tFinland\t\tHelsinki\n"
     ]
    }
   ],
   "source": [
    "# Question 7\n",
    "# Use a tab escape sequence to get the following lines.\n",
    "#Name Age Country City\n",
    "#Asabeneh 250 Finland Helsinki\n",
    "\n",
    "print(\"Name\\t\\tAge\\t\\tCountry\\t\\tCity\\nAsabeneh\\t250\\t\\tFinland\\t\\tHelsinki\")\n"
   ]
  },
  {
   "cell_type": "code",
   "execution_count": 19,
   "id": "b42fa3df",
   "metadata": {},
   "outputs": [
    {
     "name": "stdout",
     "output_type": "stream",
     "text": [
      "The area of a circle with radius 10 is 314.0 meters square.\n"
     ]
    }
   ],
   "source": [
    "#Question 8\n",
    "#Use the string formatting method to display the following:\n",
    "#radius = 10\n",
    "#area = 3.14 * radius ** 2\n",
    "#“The area of a circle with radius 10 is 314 meters square.”\n",
    "\n",
    "radius = 10 # The radius of a circle\n",
    "area = 3.14 * radius ** 2 # area of circle\n",
    "print(f\"The area of a circle with radius {radius} is {area} meters square.\")\n",
    "\n"
   ]
  },
  {
   "cell_type": "code",
   "execution_count": 20,
   "id": "a4c89b5f",
   "metadata": {},
   "outputs": [
    {
     "name": "stdout",
     "output_type": "stream",
     "text": [
      "weight in kgs:  [68.0388, 70.30676, 65.77083999999999, 67.131616, 54.431039999999996, 58.96696, 45.3592]\n"
     ]
    }
   ],
   "source": [
    "#Question 9\n",
    "#Write a program, which reads weights (lbs.) of N students into a list and convert these weights to kilograms in a separate list using Loop. N: No of students (Read input from user)\n",
    "#Ex: L1: [150, 155, 145, 148]\n",
    "#Output: [68.03, 70.3, 65.77, 67.13]\n",
    "\n",
    "\n",
    "weight_lbs = [150, 155, 145, 148, 120, 130, 100] #display the list of students weights\n",
    "weight_kgs = []\n",
    "\n",
    "#convert the weight into  kgs\n",
    "for x in weight_lbs:\n",
    "    weight_kgs.append(x*0.453592)\n",
    "print(f\"weight in kgs: \",weight_kgs)"
   ]
  }
 ],
 "metadata": {
  "kernelspec": {
   "display_name": "Python 3 (ipykernel)",
   "language": "python",
   "name": "python3"
  },
  "language_info": {
   "codemirror_mode": {
    "name": "ipython",
    "version": 3
   },
   "file_extension": ".py",
   "mimetype": "text/x-python",
   "name": "python",
   "nbconvert_exporter": "python",
   "pygments_lexer": "ipython3",
   "version": "3.9.13"
  }
 },
 "nbformat": 4,
 "nbformat_minor": 5
}
