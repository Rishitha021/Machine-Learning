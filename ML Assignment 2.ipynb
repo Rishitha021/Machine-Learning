{
 "cells": [
  {
   "cell_type": "markdown",
   "id": "b0a98f9c",
   "metadata": {},
   "source": [
    "# Question 1"
   ]
  },
  {
   "cell_type": "code",
   "execution_count": 47,
   "id": "b98de25b",
   "metadata": {},
   "outputs": [
    {
     "name": "stdout",
     "output_type": "stream",
     "text": [
      "*  \n",
      "* *  \n",
      "* * *  \n",
      "* * * *  \n",
      "* * * * *  \n",
      "* * * *  \n",
      "* * *  \n",
      "* *  \n",
      "*  \n",
      " \n"
     ]
    }
   ],
   "source": [
    "# Use a python code to display the following star pattern using the for loop\n",
    "# * \n",
    "# * * \n",
    "# * * * \n",
    "# * * * * \n",
    "# * * * * * \n",
    "# * * * * \n",
    "# * * * \n",
    "# * * \n",
    "# * \n",
    "\n",
    "for i in range (0, 5):\n",
    "    for j in range(0, i + 1):\n",
    "        print(\"* \", end='')\n",
    "    print(\" \")\n",
    "for i in range (5, 0 ,-1):\n",
    "    for j in range(0, i - 1):\n",
    "        print(\"* \", end='')\n",
    "    print(\" \")"
   ]
  },
  {
   "cell_type": "markdown",
   "id": "983dd279",
   "metadata": {},
   "source": [
    "# Question 2"
   ]
  },
  {
   "cell_type": "code",
   "execution_count": 51,
   "id": "6dcf20ce",
   "metadata": {},
   "outputs": [
    {
     "name": "stdout",
     "output_type": "stream",
     "text": [
      "20\n",
      "40\n",
      "60\n",
      "80\n",
      "100\n"
     ]
    }
   ],
   "source": [
    "# Use looping to output the elements from a provided list present at odd indexes.\n",
    "# my_list = [10, 20, 30, 40, 50, 60, 70, 80, 90, 100]\n",
    "my_list = [10, 20, 30, 40, 50, 60, 70, 80, 90, 100]\n",
    "for index in range(1, len(my_list), 2):\n",
    "    print(my_list[index])\n"
   ]
  },
  {
   "cell_type": "markdown",
   "id": "a8d8c56e",
   "metadata": {},
   "source": [
    "# Question 3"
   ]
  },
  {
   "cell_type": "code",
   "execution_count": 50,
   "id": "36a0ff02",
   "metadata": {},
   "outputs": [
    {
     "name": "stdout",
     "output_type": "stream",
     "text": [
      "[23, 'Python', 23.98]\n",
      "[<class 'int'>, <class 'str'>, <class 'float'>]\n"
     ]
    }
   ],
   "source": [
    "# Write a code that appends the type of elements from a given list.\n",
    "# Input\n",
    "#  x = [23, ‘Python’, 23.98]\n",
    "#  Expected output\n",
    "#  [23, 'Python', 23.98]\n",
    "#  [<class 'int'>, <class 'str'>, <class 'float'>]\n",
    "x = [23, 'Python', 23.98]\n",
    "\n",
    "types = []\n",
    "\n",
    "for i in x:\n",
    "    types.append(type(i))  # used for adding characters to elements\n",
    "\n",
    "print(x)\n",
    "print(types)"
   ]
  },
  {
   "cell_type": "markdown",
   "id": "27dff687",
   "metadata": {},
   "source": [
    "# Question 4"
   ]
  },
  {
   "cell_type": "code",
   "execution_count": 49,
   "id": "00711a29",
   "metadata": {},
   "outputs": [
    {
     "name": "stdout",
     "output_type": "stream",
     "text": [
      "Unique list: [1, 2, 3, 4, 5]\n"
     ]
    }
   ],
   "source": [
    "# Write a function that takes a list and returns a new list with unique items of the first list.\n",
    "# Sample List: [1,2,3,3,3,3,4,5]\n",
    "# Unique List: [1, 2, 3, 4, 5]\n",
    "\n",
    "def unique_list(items):\n",
    "  return list(set(items))\n",
    "\n",
    "sample_list = [1,2,3,3,3,3,4,5]\n",
    "print(\"Unique list:\", unique_list(sample_list))\n",
    "\n"
   ]
  },
  {
   "cell_type": "markdown",
   "id": "0ed36473",
   "metadata": {},
   "source": [
    "# Question 5"
   ]
  },
  {
   "cell_type": "code",
   "execution_count": 48,
   "id": "8480228c",
   "metadata": {},
   "outputs": [
    {
     "name": "stdout",
     "output_type": "stream",
     "text": [
      "No. of Upper-case characters: 3\n",
      "No. of Lower-case characters: 12\n"
     ]
    }
   ],
   "source": [
    "# Write a function that accepts a string and calculate the number of upper-case letters and lower-case\n",
    "# letters. \n",
    "# Input String: 'The quick Brow Fox'\n",
    "# Expected Output:\n",
    "# No. of Upper-case characters: 3\n",
    "# No. of Lower-case Characters: 12\n",
    "\n",
    "def calculate_the_case(string):\n",
    "    upper_case = 0\n",
    "    lower_case = 0\n",
    "    for char in string:\n",
    "        if char.isupper():\n",
    "            upper_case += 1\n",
    "        elif char.islower():\n",
    "            lower_case += 1\n",
    "    return \"No. of Upper-case characters: \" + str(upper_case) + \"\\n\" + \"No. of Lower-case characters: \" + str(lower_case)\n",
    "\n",
    "print(calculate_the_case(\"The quick Brow Fox\"))"
   ]
  }
 ],
 "metadata": {
  "kernelspec": {
   "display_name": "Python 3 (ipykernel)",
   "language": "python",
   "name": "python3"
  },
  "language_info": {
   "codemirror_mode": {
    "name": "ipython",
    "version": 3
   },
   "file_extension": ".py",
   "mimetype": "text/x-python",
   "name": "python",
   "nbconvert_exporter": "python",
   "pygments_lexer": "ipython3",
   "version": "3.9.13"
  }
 },
 "nbformat": 4,
 "nbformat_minor": 5
}
